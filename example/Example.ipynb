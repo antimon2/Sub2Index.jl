{
 "cells": [
  {
   "cell_type": "code",
   "execution_count": 1,
   "metadata": {
    "ExecuteTime": {
     "end_time": "2020-02-16T22:13:47.736000+09:00",
     "start_time": "2020-02-16T13:13:46.416Z"
    }
   },
   "outputs": [],
   "source": [
    "using Sub2Index"
   ]
  },
  {
   "cell_type": "code",
   "execution_count": 2,
   "metadata": {
    "ExecuteTime": {
     "end_time": "2020-02-16T22:13:48.367000+09:00",
     "start_time": "2020-02-16T13:13:46.418Z"
    }
   },
   "outputs": [
    {
     "data": {
      "text/plain": [
       ":(F[n] = F[n - 1] + F[n - 2])"
      ]
     },
     "execution_count": 2,
     "metadata": {},
     "output_type": "execute_result"
    }
   ],
   "source": [
    "@macroexpand @_ Fₙ = Fₙ₋₁ + Fₙ₋₂"
   ]
  },
  {
   "cell_type": "code",
   "execution_count": 3,
   "metadata": {
    "ExecuteTime": {
     "end_time": "2020-02-16T22:13:49.037000+09:00",
     "start_time": "2020-02-16T13:13:46.419Z"
    }
   },
   "outputs": [
    {
     "data": {
      "text/plain": [
       "10-element Array{Int64,1}:\n",
       "  1\n",
       "  1\n",
       "  2\n",
       "  3\n",
       "  5\n",
       "  8\n",
       " 13\n",
       " 21\n",
       " 34\n",
       " 55"
      ]
     },
     "execution_count": 3,
     "metadata": {},
     "output_type": "execute_result"
    }
   ],
   "source": [
    "F = ones(Int, 10)\n",
    "\n",
    "@_ for n = 3:10\n",
    "    Fₙ = Fₙ₋₁ + Fₙ₋₂\n",
    "end\n",
    "\n",
    "F"
   ]
  },
  {
   "cell_type": "code",
   "execution_count": 4,
   "metadata": {
    "ExecuteTime": {
     "end_time": "2020-02-16T22:13:49.039000+09:00",
     "start_time": "2020-02-16T13:13:46.421Z"
    }
   },
   "outputs": [
    {
     "data": {
      "text/plain": [
       ":(Π[i, j] = Π[i - 1, j - 1] + Π[i - 1, j])"
      ]
     },
     "execution_count": 4,
     "metadata": {},
     "output_type": "execute_result"
    }
   ],
   "source": [
    "@macroexpand @_ Π₍ᵢ₎₍ⱼ₎ = Π₍ᵢ₋₁₎₍ⱼ₋₁₎ + Π₍ᵢ₋₁₎₍ⱼ₎"
   ]
  },
  {
   "cell_type": "code",
   "execution_count": 5,
   "metadata": {
    "ExecuteTime": {
     "end_time": "2020-02-16T22:13:49.689000+09:00",
     "start_time": "2020-02-16T13:13:46.423Z"
    }
   },
   "outputs": [
    {
     "data": {
      "text/plain": [
       "10×10 Array{Int64,2}:\n",
       " 1  0   0   0    0    0   0   0  0  0\n",
       " 1  1   0   0    0    0   0   0  0  0\n",
       " 1  2   1   0    0    0   0   0  0  0\n",
       " 1  3   3   1    0    0   0   0  0  0\n",
       " 1  4   6   4    1    0   0   0  0  0\n",
       " 1  5  10  10    5    1   0   0  0  0\n",
       " 1  6  15  20   15    6   1   0  0  0\n",
       " 1  7  21  35   35   21   7   1  0  0\n",
       " 1  8  28  56   70   56  28   8  1  0\n",
       " 1  9  36  84  126  126  84  36  9  1"
      ]
     },
     "execution_count": 5,
     "metadata": {},
     "output_type": "execute_result"
    }
   ],
   "source": [
    "Π = zeros(Int, (10, 10))\n",
    "\n",
    "@_ for i = 1:10 Π₍ᵢ₎₍₁₎ = Π₍ᵢ₎₍ᵢ₎ = 1 end\n",
    "@_ for i = 3:10, j = 2:i-1\n",
    "    Π₍ᵢ₎₍ⱼ₎ = Π₍ᵢ₋₁₎₍ⱼ₋₁₎ + Π₍ᵢ₋₁₎₍ⱼ₎\n",
    "end\n",
    "\n",
    "Π"
   ]
  },
  {
   "cell_type": "code",
   "execution_count": 6,
   "metadata": {
    "ExecuteTime": {
     "end_time": "2020-02-16T22:13:49.690000+09:00",
     "start_time": "2020-02-16T13:13:46.424Z"
    }
   },
   "outputs": [
    {
     "data": {
      "text/plain": [
       ":(G[n] = G[n - 1] * G[n - 2])"
      ]
     },
     "execution_count": 6,
     "metadata": {},
     "output_type": "execute_result"
    }
   ],
   "source": [
    "@macroexpand @_ Gₙ = Gₙ₋₁Gₙ₋₂"
   ]
  },
  {
   "cell_type": "code",
   "execution_count": 7,
   "metadata": {
    "ExecuteTime": {
     "end_time": "2020-02-16T22:13:50.319000+09:00",
     "start_time": "2020-02-16T13:13:46.426Z"
    }
   },
   "outputs": [
    {
     "data": {
      "text/plain": [
       "10-element Array{Int128,1}:\n",
       "           1\n",
       "           2\n",
       "           2\n",
       "           4\n",
       "           8\n",
       "          32\n",
       "         256\n",
       "        8192\n",
       "     2097152\n",
       " 17179869184"
      ]
     },
     "execution_count": 7,
     "metadata": {},
     "output_type": "execute_result"
    }
   ],
   "source": [
    "G = zeros(Int128, 10)\n",
    "@_ begin\n",
    "    G₁ = 1\n",
    "    G₂ = 2\n",
    "    for n = 3:10\n",
    "        Gₙ = Gₙ₋₁Gₙ₋₂  # equivalent to `G[n] = G[n - 1] * G[n - 2]`\n",
    "    end\n",
    "end\n",
    "G"
   ]
  },
  {
   "cell_type": "code",
   "execution_count": null,
   "metadata": {},
   "outputs": [],
   "source": []
  }
 ],
 "metadata": {
  "kernelspec": {
   "display_name": "Julia 1.3.1",
   "language": "julia",
   "name": "julia-1.3"
  },
  "language_info": {
   "file_extension": ".jl",
   "mimetype": "application/julia",
   "name": "julia",
   "version": "1.3.1"
  }
 },
 "nbformat": 4,
 "nbformat_minor": 2
}
